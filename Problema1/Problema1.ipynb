{
 "cells": [
  {
   "cell_type": "markdown",
   "metadata": {},
   "source": [
    "# Problema 1\n",
    "Crear una función que reciba un número romano y que retorne su valor en sistema decimal. Por ejemplo, si ingresamos la cadena \"X\" la función nos debe regresar el valor de 10.\n",
    "\n",
    "Para ello comenzamos creando un diccionario"
   ]
  },
  {
   "cell_type": "code",
   "execution_count": 2,
   "metadata": {},
   "outputs": [],
   "source": [
    "dic = {'I': 1, 'V': 5, 'X': 10, 'L': 50, 'C': 100, 'D': 500, 'M': 1000}"
   ]
  },
  {
   "cell_type": "markdown",
   "metadata": {},
   "source": [
    "y notemos que podemos hacer cálculos como"
   ]
  },
  {
   "cell_type": "code",
   "execution_count": 21,
   "metadata": {},
   "outputs": [
    {
     "data": {
      "text/plain": [
       "8"
      ]
     },
     "execution_count": 21,
     "metadata": {},
     "output_type": "execute_result"
    }
   ],
   "source": [
    "cadena = 'VIII'\n",
    "num=0\n",
    "for i in range(len(cadena)):\n",
    "    num += dic[cadena[i]]\n",
    "num"
   ]
  },
  {
   "cell_type": "markdown",
   "metadata": {},
   "source": [
    "donde por medio del for recorremos cada letra de la cadena en cuestión y mediante dic\\[cadena\\[i\\]\\] obtenemos el valor de dicha letra referente al diccionario\n",
    "\n",
    "Otro ejemplo "
   ]
  },
  {
   "cell_type": "code",
   "execution_count": 22,
   "metadata": {},
   "outputs": [
    {
     "data": {
      "text/plain": [
       "1125"
      ]
     },
     "execution_count": 22,
     "metadata": {},
     "output_type": "execute_result"
    }
   ],
   "source": [
    "cadena = 'MCXXV'\n",
    "num=0\n",
    "for i in range(len(cadena)):\n",
    "    num += dic[cadena[i]]\n",
    "num"
   ]
  },
  {
   "cell_type": "markdown",
   "metadata": {},
   "source": [
    "El problema será únicamente trabajar con números como el \"IV\", \"IX\", etcétera. Para lo cual podemos notar que, al ser el número adyascente de la izquierda siempre menor al número adyascente de la derecha, podemos ver que el valor total del número en cuestión se obtiene mediante una resta. Por ejemplo, el \"IV\" se obtiene al efectuar la resta 5-1 (\"V-I\") y lo mismo para los demás números de esta forma. Para calcular el valor de estos números podemos utilizar:"
   ]
  },
  {
   "cell_type": "code",
   "execution_count": 7,
   "metadata": {},
   "outputs": [
    {
     "data": {
      "text/plain": [
       "9"
      ]
     },
     "execution_count": 7,
     "metadata": {},
     "output_type": "execute_result"
    }
   ],
   "source": [
    "cadena = \"IX\"\n",
    "num=0\n",
    "for i in range(len(cadena)-1):\n",
    "    if dic[cadena[i]] < dic[cadena[i+1]]:\n",
    "        num += dic[cadena[i+1]] - dic[cadena[i]]\n",
    "num"
   ]
  },
  {
   "cell_type": "markdown",
   "metadata": {},
   "source": [
    "donde, si el valor en el diccionario del primer caracter es menor al valor en el diccionario del siguiente caracter, por ejemplo \"IV\" pues 1 es menor que 4, entonces restaremos el valor del primer caracter (\"I\") al valor del segundo caracter (\"V\").\n",
    "\n",
    "Ahora bien, vemos que en los dos casos el rango del i es distinto. Para unir ambos casos utilizaremos un AND en la condición del if como sigue"
   ]
  },
  {
   "cell_type": "code",
   "execution_count": 11,
   "metadata": {},
   "outputs": [
    {
     "data": {
      "text/plain": [
       "1126"
      ]
     },
     "execution_count": 11,
     "metadata": {},
     "output_type": "execute_result"
    }
   ],
   "source": [
    "cadena=\"MCXXVI\"\n",
    "num=0\n",
    "for i in range(len(cadena)):\n",
    "    if i < len(cadena)-1 and dic[cadena[i]] < dic[cadena[i+1]]:\n",
    "        num += dic[cadena[i+1]] - dic[cadena[i]]\n",
    "    else:\n",
    "        num += dic[cadena[i]]\n",
    "num"
   ]
  },
  {
   "cell_type": "markdown",
   "metadata": {},
   "source": [
    "Pero tendremos un problema en el código anterior, por ejemplo"
   ]
  },
  {
   "cell_type": "code",
   "execution_count": 14,
   "metadata": {},
   "outputs": [
    {
     "data": {
      "text/plain": [
       "9"
      ]
     },
     "execution_count": 14,
     "metadata": {},
     "output_type": "execute_result"
    }
   ],
   "source": [
    "cadena=\"IV\"\n",
    "num=0\n",
    "for i in range(len(cadena)):\n",
    "    if i < len(cadena)-1 and dic[cadena[i]] < dic[cadena[i+1]]:\n",
    "        num += dic[cadena[i+1]] - dic[cadena[i]]\n",
    "    else:\n",
    "        num += dic[cadena[i]]\n",
    "num"
   ]
  },
  {
   "cell_type": "markdown",
   "metadata": {},
   "source": [
    "pues cuando i=0, el valor de num es 4 y pasamos a la siguiente iteación; ahora, para i=1 la condición i < len(cadena)-1 es falsa por lo cual se ejecuta num += dic\\[cadena\\[i\\]\\] y por ello sumamos a num el valor de dic\\[cadena\\[1\\]\\]=dic\\[\"V\"\\]=5. Por ello el resulatado es 9. Vemos que dicho problema sólo ocurre con los números de la forma \"IV\" o \"IX\" que, al obtener su valor correcto, digamos 4 ó 9, al final se suma el valor del último caracter, 5 y 10 respectivamente.\n",
    "\n",
    "Para resolverlo nos auxiliaremos de una lista que implementaremos de la siguiente forma"
   ]
  },
  {
   "cell_type": "code",
   "execution_count": 15,
   "metadata": {},
   "outputs": [
    {
     "data": {
      "text/plain": [
       "4"
      ]
     },
     "execution_count": 15,
     "metadata": {},
     "output_type": "execute_result"
    }
   ],
   "source": [
    "cadena=\"IV\"\n",
    "num=0\n",
    "auxiliar = []\n",
    "\n",
    "for i in range(len(cadena)):\n",
    "    if i in auxiliar:\n",
    "        continue\n",
    "    if i < len(cadena)-1 and dic[cadena[i]] < dic[cadena[i+1]]:\n",
    "        num += dic[cadena[i+1]] - dic[cadena[i]]\n",
    "        auxiliar.append(i+1)\n",
    "    else:\n",
    "        num += dic[cadena[i]]\n",
    "num"
   ]
  },
  {
   "cell_type": "markdown",
   "metadata": {},
   "source": [
    "con lo cual, por ejemplo para el \"IV\", una vez que ya calculamos el valor de 4 para la iteración i=0, se agregará a la lista auxiliar el valor de i+1=1; para la iteración i=1, el primer if hace que finalice el for, pues, como i=1 está en la lista auxilir=\\[1\\]}, entonces se ejecuta el continue. De esta forma garantizamos que ya no se sume, por ejemplo el 5 de la cadena \"IV\".\n",
    "\n",
    "Así, nuestra función final queda como"
   ]
  },
  {
   "cell_type": "code",
   "execution_count": 5,
   "metadata": {},
   "outputs": [],
   "source": [
    "def conversor(roman):\n",
    "    num=0\n",
    "    continuar = []\n",
    "    for i in range(len(roman)):\n",
    "        if i in continuar:\n",
    "            continue\n",
    "        if i < len(roman)-1:\n",
    "            if dic[roman[i]] < dic[roman[i+1]]:\n",
    "                 num += dic[roman[i+1]] - dic[roman[i]]\n",
    "                 continuar.append(i+1)\n",
    "            else:\n",
    "                num += dic[roman[i]]\n",
    "        else:\n",
    "            num += dic[roman[i]]\n",
    "    return num"
   ]
  },
  {
   "cell_type": "code",
   "execution_count": 16,
   "metadata": {},
   "outputs": [
    {
     "data": {
      "text/plain": [
       "144"
      ]
     },
     "execution_count": 16,
     "metadata": {},
     "output_type": "execute_result"
    }
   ],
   "source": [
    "conversor(\"CXLIV\")"
   ]
  }
 ],
 "metadata": {
  "kernelspec": {
   "display_name": "Python 3.10.4 64-bit",
   "language": "python",
   "name": "python3"
  },
  "language_info": {
   "codemirror_mode": {
    "name": "ipython",
    "version": 3
   },
   "file_extension": ".py",
   "mimetype": "text/x-python",
   "name": "python",
   "nbconvert_exporter": "python",
   "pygments_lexer": "ipython3",
   "version": "3.10.4"
  },
  "orig_nbformat": 4,
  "vscode": {
   "interpreter": {
    "hash": "1e3d2864960cda1cc89e7405ec595e77e7ac30692c1b4230c1dcf8d9a5036813"
   }
  }
 },
 "nbformat": 4,
 "nbformat_minor": 2
}
