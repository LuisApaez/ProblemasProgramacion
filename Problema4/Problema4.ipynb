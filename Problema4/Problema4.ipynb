{
 "cells": [
  {
   "cell_type": "markdown",
   "metadata": {},
   "source": [
    "# Problema 4\n",
    "\n",
    "Dada una secuencia de paréntesis, corchetes, llaves, etc., verificar si es una expresión válida, esto es, diremos que una expresión es válida si cada paréntesis tiene una apertura y cierre correspondiente y análogamente los demás. Un ejemplo de una secuencia no válida es ``([)]`` pues no tiene un orden correcto de aperturas y cierres. Un ejemplo válido es ``[[()]]`` o ``{}()``.\n",
    "\n",
    "Para lograr esto utilizaremos una lista que sirva como una especie de pila. Al analizar la cadena, es decir, recorrer cada caracter de ella mediante un bucle, agregaremos los paréntesis de apertura a la lista y, una vez que hallemos su respectivo paréntesis de cierre, lo eliminaremos de la lista. De tal manera, si al final la lista está vacía, entonces significa que tenemos una secuencia válida; caso contrario, no tendremos una secuencia válida. La ventaja de pensar una lista como una especie de pila es que, los paréntesis abiertos agregados a dicha pila indican el orden en que deben cerrarse.  Por ejemplo, para la secuencia ``[()]``, la lista pila será ``['[', '(']``, lo que indica que debe cerrarse primero el paréntesis y después el corchete. Si no cerramos éstos en dicho orden, entonces la secuencia no es válida.\n",
    "\n",
    "De tal manera, dada una lista vacía, agregaremos, si es el caso, los paréntesis de apertura a ésta. Después de reccorrer todos los paréntesis de apertura, nos concentramos ahora en los de cierre. Si un caracter es un paréntesis de cierre y vemos que la lista está vacía, es decir que no hubo paréntesis de apertura, entonces la secuencia no es válida. Por ejemplo en los casos en que la secuencia comienza con un paréntesis de cierre. Si la lista no está vacía, entonces procedemos a cerrar los paréntesis.\n",
    "\n",
    "Lo anterior lo logramos de la siguiente manera. Si el paréntesis de cierre coincide con el último de apertura en la lista, he aquí la importancia de la pila, entonces se han cerrado correctamente los paréntesis, luego, quitamos ese último paréntesis de apertura de la lista. Por ejemplo, si el caracter es una ``)``, entonces de la lista ``['[', '(']`` eliminamos ``)``. Así, repetimos el proceso hasta recorrer toda la cadena.\n",
    "\n",
    "En código tenemos:"
   ]
  },
  {
   "cell_type": "code",
   "execution_count": 1,
   "metadata": {},
   "outputs": [
    {
     "name": "stdout",
     "output_type": "stream",
     "text": [
      "True\n"
     ]
    }
   ],
   "source": [
    "# Cadena de prueba\n",
    "s = '[()]'\n",
    "\n",
    "# lista pila\n",
    "pila = []\n",
    "for i in s:\n",
    "    # Agregamos los parentesis de apertura, en caso de que los haya\n",
    "    if i in ('(', '[', '{'):\n",
    "        pila.append(i)\n",
    "    # Analizamos los parentesis de cierre\n",
    "    elif i in (')', ']', '}'):\n",
    "        # Si la lista es vacia, entonces no es una secuencia valida\n",
    "        if len(pila) == 0:\n",
    "            print(False)\n",
    "        # Caso en que la lista no es vacia\n",
    "        else:\n",
    "            # Si el parentesis de cierre es ')' y el ultimo elemento\n",
    "            # de la lista pila es '(', entonces eliminamos a\n",
    "            # '(' de la lista (lo que significa que el parentesis se ha \n",
    "            # cerrado correctamente)\n",
    "            if i == ')' and  pila[-1] == '(':\n",
    "                pila.pop()\n",
    "            # Analogamente\n",
    "            elif i == ']' and  pila[-1] == '[':\n",
    "                pila.pop()\n",
    "            # Analogamente\n",
    "            elif i == '}' and  pila[-1] == '{':\n",
    "                pila.pop()\n",
    "# Si la lista es vacia, es decir que todos los parentesis se han cerrado\n",
    "# entonces arrojamos True\n",
    "if not pila:\n",
    "    print(True)\n",
    "# Si no, entonces no es una secuencia valida\n",
    "else:\n",
    "    print(False)"
   ]
  },
  {
   "cell_type": "markdown",
   "metadata": {},
   "source": [
    "De tal manera, la función final queda como"
   ]
  },
  {
   "cell_type": "code",
   "execution_count": 2,
   "metadata": {},
   "outputs": [
    {
     "name": "stdout",
     "output_type": "stream",
     "text": [
      "True\n",
      "False\n",
      "True\n",
      "True\n"
     ]
    }
   ],
   "source": [
    "def isValid(s):\n",
    "    pila = []\n",
    "    for i in s:\n",
    "        if i in ('(', '[', '{'):\n",
    "            pila.append(i)\n",
    "        elif i in (')', ']', '}'):\n",
    "            if len(pila) == 0:\n",
    "                return False\n",
    "            else:\n",
    "                if i == ')' and  pila[-1] == '(':\n",
    "                    pila.pop()\n",
    "                elif i == ']' and  pila[-1] == '[':\n",
    "                    pila.pop()\n",
    "                elif i == '}' and  pila[-1] == '{':\n",
    "                    pila.pop()\n",
    "    if not pila:\n",
    "        return True\n",
    "    else:\n",
    "        return False\n",
    "\n",
    "# Probamos con las siguientes cadenas\n",
    "print(isValid('([])'))\n",
    "print(isValid('([)]'))\n",
    "print(isValid('()[]{}'))\n",
    "print(isValid('{()[(())]}'))"
   ]
  },
  {
   "cell_type": "markdown",
   "metadata": {},
   "source": [
    "Ya casi tenemos la función terminada. Los siguientes ejemplos hacen que la función falle"
   ]
  },
  {
   "cell_type": "code",
   "execution_count": 3,
   "metadata": {},
   "outputs": [
    {
     "name": "stdout",
     "output_type": "stream",
     "text": [
      "True\n",
      "True\n"
     ]
    }
   ],
   "source": [
    "s1 = '(])'\n",
    "s2 = '([}}])'\n",
    "\n",
    "print(isValid(s1))\n",
    "print(isValid(s2))"
   ]
  },
  {
   "cell_type": "markdown",
   "metadata": {},
   "source": [
    "Nuestra función arroja True cuando debería arrojar False. Para arreglar este problema crearemos una lista auxiliar, en la cual, agregaremos los paréntesis de cierre. El código lo que hará será que, si un paréntesis es cerrado correctament, eliminará el paréntesis de cierre de la lista auxiliar. Por ejmplo, en la cadena ``'(])'`` tendremos en la lista de paréntesis de cierre ``[']', ')']``, y como el paréntesis () si se cierra, eliminamos ) de la lista. Como ] no fue cerrado, entonces la lista auxiliar es no vacía. Lo anterior nos indica cómo arreglar nuestra función:"
   ]
  },
  {
   "cell_type": "code",
   "execution_count": 4,
   "metadata": {},
   "outputs": [
    {
     "name": "stdout",
     "output_type": "stream",
     "text": [
      "False\n",
      "False\n"
     ]
    }
   ],
   "source": [
    "def isValid(s):\n",
    "    # Lista auxiliar\n",
    "    auxiliar = []\n",
    "    pila = []\n",
    "    for i in s:\n",
    "        if i in ('(', '[', '{'):\n",
    "            pila.append(i)\n",
    "        elif i in (')', ']', '}'):\n",
    "            # Agregamos el parentesis de cierre a la lista auxiliar\n",
    "            auxiliar.append(i)\n",
    "            if len(pila) == 0:\n",
    "                return False\n",
    "            else:\n",
    "                if i == ')' and  pila[-1] == '(':\n",
    "                    pila.pop()\n",
    "                    # Si el parentesis se cieera, eliminamos el parentesis\n",
    "                    # de cierre de la lista auxiliar\n",
    "                    auxiliar.pop()\n",
    "                elif i == ']' and  pila[-1] == '[':\n",
    "                    pila.pop()\n",
    "                    auxiliar.pop()\n",
    "                elif i == '}' and  pila[-1] == '{':\n",
    "                    pila.pop()\n",
    "                    auxiliar.pop()\n",
    "    # Ahora, la secuencia es valida si ambas listas son vacias\n",
    "    if not pila and not auxiliar:\n",
    "        return True\n",
    "    else:\n",
    "        return False\n",
    "\n",
    "# Probamos nuestra funcion\n",
    "s1 = '(])'\n",
    "s2 = '([}}])'\n",
    "\n",
    "print(isValid(s1))\n",
    "print(isValid(s2))"
   ]
  }
 ],
 "metadata": {
  "kernelspec": {
   "display_name": "Python 3.10.4 64-bit",
   "language": "python",
   "name": "python3"
  },
  "language_info": {
   "codemirror_mode": {
    "name": "ipython",
    "version": 3
   },
   "file_extension": ".py",
   "mimetype": "text/x-python",
   "name": "python",
   "nbconvert_exporter": "python",
   "pygments_lexer": "ipython3",
   "version": "3.10.4"
  },
  "orig_nbformat": 4,
  "vscode": {
   "interpreter": {
    "hash": "1e3d2864960cda1cc89e7405ec595e77e7ac30692c1b4230c1dcf8d9a5036813"
   }
  }
 },
 "nbformat": 4,
 "nbformat_minor": 2
}
