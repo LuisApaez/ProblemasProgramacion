{
 "cells": [
  {
   "cell_type": "markdown",
   "metadata": {},
   "source": [
    "# Problema 8\n",
    "\n",
    "Dada un triángulo, por ejemplo,  ``[[2],[3,4],[6,5,7],[4,1,8,3]]``, que es de la forma\n",
    "```\n",
    "   2\n",
    "  3 4 \n",
    " 6 5 7\n",
    "4 1 8 3\n",
    "```\n",
    "crear una función que devuelva el mínimo número que se pueda obtener de un camino, donde un camino es una secuencia de números que comienza con un número del último nivel y termina con el número del primer nivel, y éstos se van sumando. Cada fila superior debe tener una longitud igual a la longitud de la fila anterior menos 1, y la fila de hasta arriba siempre debe acabar con un sólo número. Además, si el triángulo sólo tiene una fila, la función debe regresar el número dde esa fila, por ejemplo, el triángulo ``[[2]]`` debe regresar 2. \n",
    "\n",
    "Otro ejemplo, del triángulo dado, el camino mínimo es el 11 y se obtiene de sumar 1 + 5 + 3 + 2 = 11. Además, un número dada en una fila sólo puede ser sumado por dos números adyascentes de la fila anterior. Por ejemplo, el 5 de la segunda fila sólo podrá ser sumado con el 1 ó el 8 de la fila de abajo; el 7 de la segunda fila sólo podrá ser sumado por el 8 ó 3 de la fila de abajo. En general, un número en la posición i sólo puede ser sumado por un número en la posición i e i+1 de la fila de abajo inmediata. "
   ]
  },
  {
   "cell_type": "markdown",
   "metadata": {},
   "source": [
    "Retomando nuestro ejemplo, consideremos la segunda fila ``[6,5,7]``. Cada número de esa fila sólo pudo haber sido sumado por los números adyascentes de abajo\n",
    "\n",
    "![](CapturaP8.PNG)"
   ]
  },
  {
   "cell_type": "markdown",
   "metadata": {},
   "source": [
    "Las líneas de colores representan los posibles números a sumar de cada número de la segunda fila. Notemos que, si buscamos hallar la suma mínima, entonces, cada número de la segunda fila debe ser sumado con el mínimo de los dos posibles números de la fila de abajo. Para el 6, lo sumamos con el 1; para el 5, lo sumamos con el 1; para el 7, lo sumamos con el 3. Así, obtenemos una fila ``[7,6,10]`` de las sumas de los elementos de la segunda fila con el número mínimo de los posibles números a sumar de la fila de abajo. Repetimos el proceso anterior considerando ahora la fila ``[3,4]`` pero ahora con la \"fila\" obtenida de las sumas, ``[7,6,10]``, pues recordemos que nos interesa hallar el camino de sumas mínimo.\n",
    "\n",
    "![](CapturaP8_2.PNG)"
   ]
  },
  {
   "cell_type": "markdown",
   "metadata": {},
   "source": [
    "donde nuevamente sumamos el número de la sila superior con el mínimo número adyascente de la fila de abajo. Notamos que, para la última fila ``[2]``, el 2 será sumado con el 9, con lo cual obtenemos el número 11.\n",
    "\n",
    "Otro ejemplo, consideremos el triángulo ``[[-1],[2,3],[1,-1,3]]``, entonces\n",
    "\n",
    "![](CapturaP8_3.PNG)"
   ]
  },
  {
   "cell_type": "markdown",
   "metadata": {},
   "source": [
    "la suma mínima es el 0.\n",
    "\n",
    "Procedemos entonces a programar nuestra solución. Para ello, crearemos primero una lista de ceros, donde el número de ceros será igual al número de filas del triángulo más uno."
   ]
  },
  {
   "cell_type": "code",
   "execution_count": 2,
   "metadata": {},
   "outputs": [
    {
     "name": "stdout",
     "output_type": "stream",
     "text": [
      "[0, 0, 0, 0, 0]\n"
     ]
    }
   ],
   "source": [
    "triangulo = [[2],[3,4],[6,5,7],[4,1,8,3]]\n",
    "\n",
    "# Lista de ceros, en este caso [0,0,0,0,0]\n",
    "aux = [ 0 for i in range(len(triangulo) + 1)]\n",
    "print(aux)"
   ]
  },
  {
   "cell_type": "markdown",
   "metadata": {},
   "source": [
    "la lista anterior nos servirá para ir guardando las sumas que vayamos realizando, pero en la primera iteración debe copiar tal cual la primer fila del triángulo, esto es, en la primera iteración debemos tener algo como ``[4, 1, 8, 3, 0]``.\n",
    "\n",
    "En la siguiente iteración aplicaremos el procedimiento que se dijo anteriormente, así, cada elemento de la fila superior será sumado con el mínimo número adyascente de la fila de abajo y repetimos hasta llegar a la primer fila. PAra ello"
   ]
  },
  {
   "cell_type": "code",
   "execution_count": 9,
   "metadata": {},
   "outputs": [],
   "source": [
    "# Funcion\n",
    "def sumaMinima(triangulo):\n",
    "\n",
    "    # Lista de ceros auxiliar\n",
    "    aux=[0 for i in range(len(triangulo)+1)]\n",
    "\n",
    "    # Invertimos el orden del triangulo y recorremos cada fila\n",
    "    for fila in triangulo[::-1]:\n",
    "\n",
    "        # Recorreremos cada elemento de la fila correspondiente\n",
    "        for i in range(len(fila)):\n",
    "\n",
    "            # Asignacion de las sumas\n",
    "            aux[i]=fila[i]+min(aux[i],aux[i+1])\n",
    "            \n",
    "    # el primer elemento es la suma minima\n",
    "    return aux[0]"
   ]
  },
  {
   "cell_type": "markdown",
   "metadata": {},
   "source": [
    "Por ejemplo, considerando la fila de hasta abjo ``[4,1,8,3]``, entonces\n",
    "\n",
    "* aux[0] = 4 + min(0,0) = 4\n",
    "* aux[1] = 1 + min(0,0) = 1\n",
    "* aux[2] = 8 + min(0,0) = 8\n",
    "* aux[3] = 3 + min(0,0) = 3\n",
    "\n",
    "esto es, la primer fila es copiada a nuestra lista auxiliar en la primera iteración. En la segunda iteración tenemos que ``aux=[4,1,8,3,0]`` y el siguiente elemento fila es ``[6,5,7]``, entonces\n",
    "\n",
    "* aux[0] = 6 + min(4,1) = 7\n",
    "* aux[1] = 5 + min(1,8) = 6\n",
    "* aux[2] = 7 + min(8,3) = 10\n",
    "\n",
    "de modo que en esta iteración ``aux=[7,6,10,0]``. Notamos que este proceso modela exactamente lo que dijimos sobre que, un número de la segunda fila sólo puede ser sumados por dos números adyascentes de la fila anterior, y de hecho, nos tomamos al menor de dichos números adyascentes. \n",
    "\n",
    "Continuamos con la última iteración, para la fila ``[3,4]``, entonces\n",
    "\n",
    "* aux[0] = 3 + min(7,6) = 9\n",
    "* aux[1] = 4 + min(6,10) = 10\n",
    "\n",
    "de modo que en esta iteración ``aux=[9,10,0]``. Para finalizar, para la fila ``[2]``, entonces\n",
    "\n",
    "* aux[0] = 2 + min(9,10) = 11\n",
    "\n",
    "y habremos terminado."
   ]
  },
  {
   "cell_type": "code",
   "execution_count": 10,
   "metadata": {},
   "outputs": [
    {
     "data": {
      "text/plain": [
       "11"
      ]
     },
     "execution_count": 10,
     "metadata": {},
     "output_type": "execute_result"
    }
   ],
   "source": [
    "sumaMinima(triangulo)"
   ]
  }
 ],
 "metadata": {
  "kernelspec": {
   "display_name": "Python 3.10.4 64-bit",
   "language": "python",
   "name": "python3"
  },
  "language_info": {
   "codemirror_mode": {
    "name": "ipython",
    "version": 3
   },
   "file_extension": ".py",
   "mimetype": "text/x-python",
   "name": "python",
   "nbconvert_exporter": "python",
   "pygments_lexer": "ipython3",
   "version": "3.10.4"
  },
  "orig_nbformat": 4,
  "vscode": {
   "interpreter": {
    "hash": "1e3d2864960cda1cc89e7405ec595e77e7ac30692c1b4230c1dcf8d9a5036813"
   }
  }
 },
 "nbformat": 4,
 "nbformat_minor": 2
}
