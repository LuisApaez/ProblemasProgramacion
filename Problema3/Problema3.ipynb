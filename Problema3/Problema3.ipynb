{
 "cells": [
  {
   "cell_type": "markdown",
   "metadata": {},
   "source": [
    "# Problema 3\n",
    "Calcular el cociente entre dos números sin emplear multiplicaciones, divisiones o el operador de resto (mod).\n",
    "\n",
    "Para ello realizaremos restas sucesivas, por ejemplo, si consideramos $\\frac{7}{3}$ tendremos que $7-3-3$ podemos restar dos veces el 3 del 7, de modo que el cociente de 7 entre 3 es 2. Creamos una función que haga esto y la llamamos cociente.\n"
   ]
  },
  {
   "cell_type": "code",
   "execution_count": 1,
   "metadata": {},
   "outputs": [
    {
     "name": "stdout",
     "output_type": "stream",
     "text": [
      "(5, 0)\n",
      "(3, 1)\n"
     ]
    }
   ],
   "source": [
    "def cociente(dividend, divisor):\n",
    "    \"\"\"\n",
    "    La siguiente función calcula el cociente, al cual denominaremos contador\n",
    "    y nos arroja el valor final del dividendo despues de las restas sucesivas, esto es\n",
    "    el ultimo valor del dividendo es el residuo de la division\n",
    "    \"\"\"\n",
    "    contador = 0\n",
    "    while dividend >= divisor:\n",
    "        dividend -= divisor\n",
    "        contador += 1\n",
    "    return contador, dividend\n",
    "\n",
    "# Ponemos a prueba la funcion\n",
    "\n",
    "# Cociente 5 y residuo 0\n",
    "print(cociente(10,2))\n",
    "\n",
    "# Cociente 3 y residuo 1\n",
    "print(cociente(10,3))"
   ]
  },
  {
   "cell_type": "markdown",
   "metadata": {},
   "source": [
    "ahora escribiremos el código para redondear adecuadamente, si el primer decimal es mayor o igual a 5, redondeamos al entero mayor más cercano, si es menor a 5 redondeamos al entero menor más cercano. Recordemos que el valor de la variable ``dividend`` quedó como el residuo de la división, el cual podemos acceder a él mediante ``cociente(dividend,divisor)[1]``\n",
    "\n",
    "Ahora, recordemos el tradicional procedimiento de división, como el residuo de la división $frac{10}{3}$ es uno, le agregamos un 0 al uno para obtener el 10, y después dividimos ese diez entre el 3 para obtener el cociente de 3, el cual representa el primer decimal. Crearemos otra función para que, dentro de ella, podamos utilizar la función ``cociente()`` y calcular el cociente entre el residuo aumentado en un cero entre el mismo divisior:"
   ]
  },
  {
   "cell_type": "code",
   "execution_count": 4,
   "metadata": {},
   "outputs": [
    {
     "name": "stdout",
     "output_type": "stream",
     "text": [
      "3\n",
      "4\n"
     ]
    }
   ],
   "source": [
    "def cociente2(dividend, divisor):\n",
    "    def cociente(dividend, divisor):\n",
    "        contador = 0\n",
    "        while dividend >= divisor:\n",
    "            dividend -= divisor\n",
    "            contador += 1\n",
    "        return  contador, dividend\n",
    "\n",
    "    # Calculo del primer deciamal:\n",
    "    # Le agreamos un cero al residuo para realizar otra division\n",
    "    residuo_aument = int(str(cociente(dividend,divisor)[1]) + '0')\n",
    "\n",
    "    # Si el decimal es mayor o igual a 5, sumamos 1 al cociente original\n",
    "    # para simular el redondeo\n",
    "    if cociente(residuo_aument, divisor)[0] >= 5:\n",
    "        x = cociente(dividend, divisor)[0] + 1\n",
    "\n",
    "    # si el decimal es menor a 5, no hacemos nada, lo que logra simular \n",
    "    # el redondeo al entero menor mas cercano\n",
    "    else:\n",
    "        x = cociente(dividend, divisor)[0]\n",
    "    return x\n",
    "\n",
    "# Probamos la funcion\n",
    "print(cociente2(10,3))  #3.333\n",
    "\n",
    "print(cociente2(11,3))  #3.666\n"
   ]
  },
  {
   "cell_type": "markdown",
   "metadata": {},
   "source": [
    "Finalmente, trabajaremos los casos en que la división resulte en un número negativo, es decir, si alguno de los componente es negativo. Para este caso debemos modificar el código que nos redondea el decimal pues, por ejemplo, si efectuamos 7/-3=-2.3, el redondeo se debe de hacer al entero mayor más cercano, que en este caso es -2 y si tenemos por ejemplo el número -2.5, el redondeo se hace al número -3. De tal manera, podemos pensar que el código que tenemos para el redondeo en los números positivos srive, pero sólo debemos invertir el orden hacía que valor redondearemos.\n",
    "\n",
    "Lo que haremos será emplear el mismo código que el anterior pero en vez de retornar x, retornaremos -x. Por ejemplo, si tenemos -7/3=-2, convertiremos el -7 a positivo, por lo cual 7/3=2, el residuo es  1, le agregamos el cero y volvemos a dividir, obtendiendo que el primer decimal es 3. Como el 3 es menor a 5, redondeamos al entero menor más cercano. el cual es 2 y al final le camniamos el signo. El resultado final al redondear -7/3 es -2. Si tuvieramos -8/3, el residuo será 6, por lo que redondearemos el cociente 2 al 3 y le cambiamos el signo. Tenemos así que el resultado final es -3.\n",
    "\n",
    "Finalmente, escribimos entonces"
   ]
  },
  {
   "cell_type": "code",
   "execution_count": 9,
   "metadata": {},
   "outputs": [
    {
     "name": "stdout",
     "output_type": "stream",
     "text": [
      "-3\n",
      "-4\n"
     ]
    }
   ],
   "source": [
    "def div(dividend, divisor):\n",
    "    # Primera condicion para evitar dividir entre cero\n",
    "    if divisor != 0:\n",
    "        # El procedimiento principal lo haremos siempre con numeros positivos\n",
    "        if divisor < 0:\n",
    "            div_pos = - divisor\n",
    "        else:\n",
    "            div_pos = divisor\n",
    "        if dividend < 0:\n",
    "            divid_pos = - dividend\n",
    "        else:\n",
    "            divid_pos = dividend\n",
    "        # Utilizamos una funcion auxiliar para calcular el cociente\n",
    "        def cociente(dividend, divisor):\n",
    "            contador = 0\n",
    "            while dividend >= divisor:\n",
    "                dividend -= divisor\n",
    "                contador += 1\n",
    "            return contador, dividend\n",
    "        # Lo siguiente decide hacia que valor redondear, pero solo en caso\n",
    "        # de que ambos numeros sean positivos o ambos negativos\n",
    "        if (divisor > 0 and dividend > 0) or (divisor<0 and dividend <0):\n",
    "            residuo_aument = int(str(cociente(divid_pos,div_pos)[1]) + '0')\n",
    "            if cociente(residuo_aument, div_pos)[0] >= 5:\n",
    "                x = cociente(divid_pos, div_pos)[0] + 1\n",
    "            else:\n",
    "                x = cociente(divid_pos, div_pos)[0]\n",
    "            return x\n",
    "        # Dado que el redondeo es distinto en los casos negativos escribimos\n",
    "        elif dividend < 0  or divisor <0:\n",
    "            residuo_aument = int(str(cociente(divid_pos,div_pos)[1]) + '0')\n",
    "            if cociente(residuo_aument, div_pos)[0] >= 5:\n",
    "                x = cociente(divid_pos, div_pos)[0] + 1\n",
    "            else:\n",
    "                x = cociente(divid_pos, div_pos)[0]\n",
    "            return -x\n",
    "    else:\n",
    "        return\n",
    "\n",
    "# Probamos la funcion\n",
    "print(div(-10,3))  #3.333\n",
    "\n",
    "print(div(-11,3))  #3.666"
   ]
  }
 ],
 "metadata": {
  "kernelspec": {
   "display_name": "Python 3.10.4 64-bit",
   "language": "python",
   "name": "python3"
  },
  "language_info": {
   "codemirror_mode": {
    "name": "ipython",
    "version": 3
   },
   "file_extension": ".py",
   "mimetype": "text/x-python",
   "name": "python",
   "nbconvert_exporter": "python",
   "pygments_lexer": "ipython3",
   "version": "3.10.4"
  },
  "orig_nbformat": 4,
  "vscode": {
   "interpreter": {
    "hash": "1e3d2864960cda1cc89e7405ec595e77e7ac30692c1b4230c1dcf8d9a5036813"
   }
  }
 },
 "nbformat": 4,
 "nbformat_minor": 2
}
