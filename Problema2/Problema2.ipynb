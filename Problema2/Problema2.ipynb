{
 "cells": [
  {
   "cell_type": "markdown",
   "metadata": {},
   "source": [
    "# Problema 2\n",
    "\n",
    "Dada una lista de números y un número, hallar la posición de DOS números de la lista que sumen el número dado, en caso de que lo anterior pueda hacerse. Por ejmplo, considerando la lista \\[2,7,11,15\\], el número dado es 9, y los números que suman 9 son 11 y 2 por lo cual deben regresarse las posiciones del 2 y el 11, esto es 0 y 2. Si el número objetivo es 20, vemos que los elementos de nuestra lista no pueden sumarse, por pares, y obtener el 20 pues las posibles sumas con dos sumandos de nuestra lista son: 9,13,17,18,22 y 26."
   ]
  },
  {
   "cell_type": "markdown",
   "metadata": {},
   "source": [
    "Para lograr nuestro objetivo, analicemos primero lo siguiente. Consideremos por ejemplo la lista \\[2,7,11,15\\] y el objetivo 13. Notemos que\n",
    "\n",
    "13-2=11\n",
    "\n",
    "13-7=4\n",
    "\n",
    "13-11=2\n",
    "\n",
    "13-15=-3\n",
    "\n",
    "son todas las restas posibles del objetivo con cada elemento de nuestra lista. Si el objetivo es resultado de la suma de dos de los elementos de la lista 13=11+2, entonces ocurre algo como\n",
    "\n",
    "13-2=11\n",
    "\n",
    "13-11=2\n",
    "\n",
    "es decir, la resta del objetivo menos el 2 es igual a 11, el cual es tambien un elemento de la lista. De forma análoga, el objetivo menos el 11 es igual a 2, otro elemento de la lista. En otras palabras, el objetivo es la suma de dos elementos de la lista si al resta del objetivo un elemento de la lista, esta resta es también un elemento de la lista.\n",
    "\n",
    "Veamos ahora que, para el objetivo 20, tenemos \n",
    "\n",
    "20 - 2 = 18\n",
    "\n",
    "20 - 7 = 13\n",
    "\n",
    "20 - 11 = 9\n",
    "\n",
    "20 - 15 = 4\n",
    "\n",
    "en ningún momento la resta del objetivo menos un elemento de la lista arroja nuevamente un elemento de la lista.\n",
    "\n",
    "Procedamos a implementar lo anterior como sigue\n"
   ]
  },
  {
   "cell_type": "code",
   "execution_count": 33,
   "metadata": {},
   "outputs": [
    {
     "name": "stdout",
     "output_type": "stream",
     "text": [
      "1 2\n"
     ]
    }
   ],
   "source": [
    "# Lista de prueba\n",
    "lista = [2,7,11,15]\n",
    "\n",
    "# Valor objetivo de prueba\n",
    "target = 18\n",
    "\n",
    "# Con enumerate conseguimos: (0,2),(1,7),(2,11),(3,15)\n",
    "for posicion, elemento in enumerate(lista):\n",
    "    # Si la resta del objetivo menos un elemento de la lista\n",
    "    # da como resultado otro elemento de la lista, entonces tendremos\n",
    "    # el resultado buscado\n",
    "    if target - elemento in lista:\n",
    "        # Vemos entonces la posicion de dichos elementos de la lista\n",
    "        print(posicion, lista.index(target-elemento))\n",
    "        break\n"
   ]
  },
  {
   "cell_type": "markdown",
   "metadata": {},
   "source": [
    "por ejemplo, como 18-7=11, entonces la posición del 11 es lista.index(18-7). Creamos ahora una función con base en lo escrito antes"
   ]
  },
  {
   "cell_type": "code",
   "execution_count": 35,
   "metadata": {},
   "outputs": [
    {
     "name": "stdout",
     "output_type": "stream",
     "text": [
      "[0, 1]\n",
      "[1, 2]\n",
      "[2, 3]\n",
      "None\n",
      "None\n"
     ]
    }
   ],
   "source": [
    "def twoSum(nums, target):\n",
    "    for posicion, elemento in enumerate(nums):\n",
    "        if target - elemento in nums:\n",
    "            return [posicion , nums.index(target-elemento)]\n",
    "        \n",
    "# Ponemos a prueba la funcion\n",
    "print(twoSum([2,7,11,15],9))\n",
    "print(twoSum([2,7,11,15],18))\n",
    "print(twoSum([2,7,11,15],26))\n",
    "print(twoSum([2,7,11,15],20))\n",
    "print(twoSum([2,7,11,15],100))"
   ]
  },
  {
   "cell_type": "markdown",
   "metadata": {},
   "source": [
    "Pero tendremos un problema:"
   ]
  },
  {
   "cell_type": "code",
   "execution_count": 36,
   "metadata": {},
   "outputs": [
    {
     "data": {
      "text/plain": [
       "[0, 0]"
      ]
     },
     "execution_count": 36,
     "metadata": {},
     "output_type": "execute_result"
    }
   ],
   "source": [
    "twoSum([3,3,1,4], 6)"
   ]
  },
  {
   "cell_type": "markdown",
   "metadata": {},
   "source": [
    "nos arroja dos veces el mismo índice. Es decir, nos arroja \\[0,0\\] en vez de \\[0,1\\]. Para solucinor dicho problema consideramos, por ejemplo, la resta 6-3(de indice cero)=3(queremos que sea el de indice 1), el cual es un elemento de la lista, pero queremos que el 3 obtenido tenga otro indice al del 3 de la resta. Para solucionarlo podemos escribir algo como \"posicion != nums.index(target-elemento)\" con lo cual, en caso de tener sumandos repetidos en la lista, la posición de éstos será distinta. Esto es"
   ]
  },
  {
   "cell_type": "code",
   "execution_count": 38,
   "metadata": {},
   "outputs": [
    {
     "name": "stdout",
     "output_type": "stream",
     "text": [
      "[0, 1]\n",
      "[1, 2]\n",
      "[2, 3]\n",
      "None\n",
      "None\n",
      "[1, 0]\n",
      "[1, 0]\n"
     ]
    }
   ],
   "source": [
    "def twoSum(nums, target):\n",
    "    for posicion, elemento in enumerate(nums):\n",
    "        if target - elemento in nums and posicion != nums.index(target-elemento):\n",
    "            return [posicion , nums.index(target-elemento)]\n",
    "        \n",
    "# Ponemos a prueba la funcion\n",
    "print(twoSum([2,7,11,15],9))\n",
    "print(twoSum([2,7,11,15],18))\n",
    "print(twoSum([2,7,11,15],26))\n",
    "print(twoSum([2,7,11,15],20))\n",
    "print(twoSum([2,7,11,15],100))\n",
    "print(twoSum([3,3,1,4], 6))\n",
    "print(twoSum([3,3,2,1,4],6))"
   ]
  }
 ],
 "metadata": {
  "kernelspec": {
   "display_name": "Python 3.10.4 64-bit",
   "language": "python",
   "name": "python3"
  },
  "language_info": {
   "codemirror_mode": {
    "name": "ipython",
    "version": 3
   },
   "file_extension": ".py",
   "mimetype": "text/x-python",
   "name": "python",
   "nbconvert_exporter": "python",
   "pygments_lexer": "ipython3",
   "version": "3.10.4"
  },
  "orig_nbformat": 4,
  "vscode": {
   "interpreter": {
    "hash": "1e3d2864960cda1cc89e7405ec595e77e7ac30692c1b4230c1dcf8d9a5036813"
   }
  }
 },
 "nbformat": 4,
 "nbformat_minor": 2
}
